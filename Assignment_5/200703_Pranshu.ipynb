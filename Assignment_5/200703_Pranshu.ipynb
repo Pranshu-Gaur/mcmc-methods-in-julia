{
 "cells": [
  {
   "cell_type": "markdown",
   "id": "87bb7d34",
   "metadata": {},
   "source": [
    "# Assignment 5 - MCMC Methods in Julia\n",
    "## Pranshu Gaur - 200703"
   ]
  },
  {
   "cell_type": "markdown",
   "id": "2330bd9e",
   "metadata": {},
   "source": [
    "### Section 2 - Barker's method and the two-coin algorithm"
   ]
  },
  {
   "cell_type": "markdown",
   "id": "5dd919b7",
   "metadata": {},
   "source": [
    "Given a current state of the Markov chain $x$, and a proposal density $q(x, y)$, the Barker's Acceptance Probability is \n",
    "$$\\alpha_{B}(x, y) = \\frac{\\pi(y)q(y, x)}{\\pi(x)q(x, y) + \\pi(y)q(y, x)}$$\n",
    "\n",
    "We can obtain at time m+1 realization by drawing $U \\sim U[0,1]$ and checking if $U \\leq \\alpha_{B}(x, y)$ but this is not possible when $\\alpha_{B}(x, y)$ cannot be evaluated, so the way out is to construct a Bernoulli factory to obtain events of probability $\\alpha_{B}(x, y)$ without evaluating it."
   ]
  },
  {
   "cell_type": "markdown",
   "id": "b0204f5a",
   "metadata": {},
   "source": [
    "The Algorithm for the same is : \n",
    "\n",
    "#### Algorithm 1 : Baker's MCMC for $x_{m+1}$\n",
    "* Draw $y \\sim q(x_m, dy)$ \n",
    "* Draw $A \\sim$ Bern $(\\alpha_B(x_m, y))$\n",
    "* If A = 1 then\n",
    "    * $x_{m+1} = y$\n",
    "* If A = 0 then\n",
    "    * $x_{m+1} = x_m$\n",
    "\n"
   ]
  },
  {
   "cell_type": "markdown",
   "id": "16166e52",
   "metadata": {},
   "source": [
    "Goncalves proposed a different algorithm to sample events with probability $\\alpha_B(x,y)$ \\\n",
    "He supposed $\\pi(x)q(x, y) = c_xp_x$, where $c_x$ is the local bound on $\\pi(x)q(x, y)$ such that $p_x$ remains a valid probability. \\\n",
    "That is, $c_x \\geq \\pi(x)q(x, y)$ and hence $p_x = \\pi(x)q(x, y) c_x^{-1}$\n",
    "\n",
    "The Algorithm is as follows :\n",
    "\n",
    "#### Algorithm 2 : two-coin algorithm for $\\alpha_B(x_m, y)$\n",
    "* Draw $C1 \\sim (\\large{\\frac{c_y}{c_y + c_x}})$ \n",
    "* If $C1 = 1$ then\n",
    "    * Draw $C2 \\sim$ Bern $(p_y)$\n",
    "        * If $C2 = 1$ then\n",
    "            output 1\n",
    "        * If $C2 = 0$ then\n",
    "            go to Step 1    \n",
    "* If $C1 = 0$ then\n",
    "    * Draw $C2 \\sim$ Bern $(p_x)$\n",
    "        * If $C2 = 1$ then\n",
    "            output 0\n",
    "        * If $C2 = 0$ then\n",
    "            go to Step 1\n",
    "<!-- Draw C1 ∼ Bern\u0012\n",
    "cy\n",
    "cy + cx\n",
    "\u0013\n",
    "2: if C1 = 1 then\n",
    "3: Draw C2 ∼ Bern(py)\n",
    "4: if C2 = 1 then\n",
    "5: output 1\n",
    "6: if C2 = 0 then\n",
    "7: go to Step 1\n",
    "8: if C1 = 0 then\n",
    "9: Draw C2 ∼ Bern(px)\n",
    "10: if C2 = 1 then\n",
    "11: output 0\n",
    "12: if C2 = 0 then\n",
    "13: go to Step 1 -->\n",
    "\n"
   ]
  },
  {
   "cell_type": "markdown",
   "id": "2df481e2",
   "metadata": {},
   "source": [
    "As proved in Assignment 2, the two-coin Algorithm generates a $Bern(\\large{\\frac{p_yc_y}{p_xc_x + p_yc_y}})$ event."
   ]
  },
  {
   "cell_type": "markdown",
   "id": "ebfaa441",
   "metadata": {},
   "source": [
    "As proved in Assignment 2, the average number of iterations to get an output is, $\\large{N = \\frac{1}{P_{out}} = \\frac{c_x + c_y}{p_xc_x + p_yc_y}}$, hence the execution time depends heavily on the upper bounds, $c_x$ and $c_y$. If the bounds are loose then the algorithm yields a larger mean execution time.\n",
    " \n"
   ]
  },
  {
   "cell_type": "markdown",
   "id": "ac8656a7",
   "metadata": {},
   "source": [
    "### Section 3 - Portkey Barker's method"
   ]
  },
  {
   "cell_type": "markdown",
   "id": "ec982d45",
   "metadata": {},
   "source": [
    "The main inefficiency in Barker's method is the inefficiency of two-coin algorithm, hence let us consider the acceptance probability for a proposed density $q(x,y)$ as \n",
    "$$ \\alpha_B(x,y) = \\frac{\\pi(y)q(y, x)}{\\pi(x)q(x, y) + \\pi(y)q(y, x) + d(x,y)}$$"
   ]
  },
  {
   "cell_type": "markdown",
   "id": "72575c2e",
   "metadata": {},
   "source": [
    "here $d(x,y) = d(y,x) \\geq 0 $ "
   ]
  },
  {
   "cell_type": "markdown",
   "id": "c422b73e",
   "metadata": {},
   "source": [
    "This $\\alpha_B(x,y) $ yields a $\\pi$ reversible Markov Chain which means that $π(y)q(y, x)\\alpha(y, x) = π(x)q(x, y)\\alpha(x, y).$"
   ]
  },
  {
   "cell_type": "markdown",
   "id": "6937764a",
   "metadata": {},
   "source": [
    "For a user-chosen $0 < \\beta ≤ 1$, consider the following Portkey Barker’s Acceptance\n",
    "Probability: $$\\alpha_{(\\beta)}(x, y) := \\frac{π(y)q(y, x)} {π(y)q(y, x) + π(x)q(x, y) + \\frac{(1 − \\beta)}{\\beta}(cx + cy)}$$"
   ]
  },
  {
   "cell_type": "markdown",
   "id": "ef32225b",
   "metadata": {},
   "source": [
    "where $\\beta \\sim 1$"
   ]
  },
  {
   "cell_type": "markdown",
   "id": "3542d1e8",
   "metadata": {},
   "source": [
    "The portkey algorithm modifies the two-coin algorithm by introducing a new step in the beginning where proposals are rejected with a probability of $1 - \\beta$. The Algorithm is as follows :"
   ]
  },
  {
   "cell_type": "markdown",
   "id": "4f5417cd",
   "metadata": {},
   "source": [
    "#### Algorithm 3: Portkey two-coin algorithm"
   ]
  },
  {
   "cell_type": "markdown",
   "id": "5220941a",
   "metadata": {},
   "source": [
    "* Draw $S \\sim$ Bern $(\\beta)$ \n",
    "* If $S = 0$ then\n",
    "    output 0\n",
    "* If $S = 1$ then\n",
    "    * Draw $C1 \\sim (\\large{\\frac{c_y}{c_y + c_x}})$ \n",
    "    * If $C1 = 1$ then\n",
    "        * Draw $C2 \\sim$ Bern $(p_y)$\n",
    "            * If $C2 = 1$ then\n",
    "                 output 1\n",
    "            * If $C2 = 0$ then\n",
    "                 go to Step 1    \n",
    "    * If $C1 = 0$ then\n",
    "        * Draw $C2 \\sim$ Bern $(p_x)$\n",
    "            * If $C2 = 1$ then\n",
    "                 output 0\n",
    "            * If $C2 = 0$ then\n",
    "                 go to Step 1"
   ]
  },
  {
   "cell_type": "markdown",
   "id": "56ab3ea3",
   "metadata": {},
   "source": [
    "Using the result for Algorithm 2, the number of loops until the algorithm stops is given by, $s_{\\beta} = (1 - \\beta) + \\beta.\\large{\\frac{c_yp_y + c_xp_x}{c_x + c_y}}$"
   ]
  },
  {
   "cell_type": "markdown",
   "id": "8099cf5c",
   "metadata": {},
   "source": [
    "When $\\beta = 1$, the Portkey Algorithm is same as Barker's two-coin Algorithm. Comparing the ratio of mean execution time of both the algorithms, \n",
    "$$\\frac{1/s_1}{1/s_{\\beta}} = \\frac{s_{\\beta}}{s_1} = (1 - \\beta).(\\frac{c_yp_y + c_xp_x}{c_x + c_y})^{-1}$$\n",
    "Thus, if $\\frac{c_yp_y + c_xp_x}{c_x + c_y}$ tends to 0, then the original two-coin algorithm is not useful as the execution time ratio diverges to infinity, on the other hand if the value tends to 1, then both the algorithms are equally efficient. When $p_x$ or $p_y$ is small, it is advised to take large value of $\\beta$."
   ]
  },
  {
   "cell_type": "markdown",
   "id": "dbdf3589",
   "metadata": {},
   "source": [
    "### Section 4 - Flipped portkey two-coin algorithm"
   ]
  },
  {
   "cell_type": "markdown",
   "id": "103ed191",
   "metadata": {},
   "source": [
    "A "
   ]
  },
  {
   "cell_type": "markdown",
   "id": "d9ab9a08",
   "metadata": {},
   "source": []
  },
  {
   "cell_type": "markdown",
   "id": "3b620d30",
   "metadata": {},
   "source": []
  },
  {
   "cell_type": "markdown",
   "id": "e620ce67",
   "metadata": {},
   "source": []
  },
  {
   "cell_type": "markdown",
   "id": "572bd6cb",
   "metadata": {},
   "source": []
  },
  {
   "cell_type": "markdown",
   "id": "aebf1f91",
   "metadata": {},
   "source": []
  },
  {
   "cell_type": "markdown",
   "id": "9cb608c2",
   "metadata": {},
   "source": []
  }
 ],
 "metadata": {
  "kernelspec": {
   "display_name": "Julia 1.7.2",
   "language": "julia",
   "name": "julia-1.7"
  },
  "language_info": {
   "file_extension": ".jl",
   "mimetype": "application/julia",
   "name": "julia",
   "version": "1.7.2"
  }
 },
 "nbformat": 4,
 "nbformat_minor": 5
}
